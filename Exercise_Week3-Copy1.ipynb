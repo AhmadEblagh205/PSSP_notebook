{
 "cells": [
  {
   "cell_type": "markdown",
   "metadata": {},
   "source": [
    "# Week 3 - Exercise"
   ]
  },
  {
   "cell_type": "markdown",
   "metadata": {},
   "source": [
    "## Problem Statement"
   ]
  },
  {
   "cell_type": "markdown",
   "metadata": {},
   "source": [
    "Compute the total membrane area necessary to produce 10 l/h purified water (0.03 wt% NaCl) through a single stage Reverse Osmosis separation of seawater (water 4 wt% NaCl). \n",
    "The feed pressure is 100 bar and the composition in the retentate stream is 7 wt%.  \n",
    "The permeate stream is at ambient pressure (1 bar), all streams are at 25$^o$ C, and the osmotic pressure in bar is captured by the semiempirical expression: \n",
    "\n",
    "\\begin{equation*}\n",
    "\\pi=\\frac{1.12}{14.5}T\\sum_{i=1}^Nc_i\n",
    "\\end{equation*}\n",
    "\n",
    "Where T is the temperature in K,  $N$ is the total number of ionic species in solution, and ci is the concentration expressed in $[mol/l]$. \n",
    "\n",
    "The asymmetric membrane used for the separation has a permeance of $0.01\\,[m h^{-1} bar^{-1}]$.\n",
    "\n",
    "Once you have solved the problem consider the following questions:\n",
    "\n",
    "- Can you evaluate the salt rejection in this process, and salt passage? \n",
    "- How would you modify the operation of the system to increase the productivity of the process? \n"
   ]
  }
 ],
 "metadata": {
  "kernelspec": {
   "display_name": "Python 3",
   "language": "python",
   "name": "python3"
  },
  "language_info": {
   "codemirror_mode": {
    "name": "ipython",
    "version": 3
   },
   "file_extension": ".py",
   "mimetype": "text/x-python",
   "name": "python",
   "nbconvert_exporter": "python",
   "pygments_lexer": "ipython3",
   "version": "3.7.7"
  }
 },
 "nbformat": 4,
 "nbformat_minor": 4
}
