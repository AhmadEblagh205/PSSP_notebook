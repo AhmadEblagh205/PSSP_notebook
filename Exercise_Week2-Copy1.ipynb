{
 "cells": [
  {
   "cell_type": "markdown",
   "metadata": {},
   "source": [
    "# Week 2 - Exercise"
   ]
  },
  {
   "cell_type": "markdown",
   "metadata": {},
   "source": [
    "## Problem Statement"
   ]
  },
  {
   "cell_type": "markdown",
   "metadata": {},
   "source": [
    "A perfectly mixed gas permeation module is used to separate carbon dioxide from nitrogen using a poly\n",
    "(2,6-dimethylphenylene oxide) membrane\t($P_{CO_2}=0.034\\times10^{-13}$ $P_{N_2}=0.089\\times10^{-13} [cm^3 (STP) cm / cm^2 s Pa]$). The process carried out at a temperature of 25$^oC$. \n",
    "The feed flowrate is 20.0 mol\\% carbon dioxide.\n",
    "The module has 15.0 $m^2$ of membrane. The module is operated with a retentate pressure of 5.5 atm\n",
    "and a permeate pressure of 1.01 atm. \n",
    "\n",
    "The permeate is enriched to 38.0 mol\\% in carbon dioxide. The membrane thickness is $\\ell = 2.0 \\times 10^{-4}$ cm. \n",
    "\n",
    "- Draw a scheme of the unit clearly labelling all the streams and relevant variables.\n",
    "\n",
    "- Completely characterise the unit, by computing feed, permeate and retentate flow rates, cut, and retentate composition. "
   ]
  }
 ],
 "metadata": {
  "kernelspec": {
   "display_name": "Python 3",
   "language": "python",
   "name": "python3"
  },
  "language_info": {
   "codemirror_mode": {
    "name": "ipython",
    "version": 3
   },
   "file_extension": ".py",
   "mimetype": "text/x-python",
   "name": "python",
   "nbconvert_exporter": "python",
   "pygments_lexer": "ipython3",
   "version": "3.7.7"
  }
 },
 "nbformat": 4,
 "nbformat_minor": 4
}
