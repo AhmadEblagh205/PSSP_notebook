{
 "cells": [
  {
   "cell_type": "markdown",
   "metadata": {},
   "source": [
    "# 8. Batch Slurry Adsorption"
   ]
  },
  {
   "cell_type": "markdown",
   "metadata": {},
   "source": [
    "In this notes we will use an example problem to introduce material balances in slurry adsorption processes. We will consider a Batch, process configuration and then its extension to a continuous process configuration."
   ]
  },
  {
   "cell_type": "markdown",
   "metadata": {},
   "source": [
    "## 8.1 Problem Statement"
   ]
  },
  {
   "cell_type": "markdown",
   "metadata": {},
   "source": [
    "A water purification process is carried out via batch adsorption. The initial concentration of the pollutant is 0.1 $[mol\\,l^{-1}]$, and it needs to be lowered by at least an order of magnitude. The process is carried out in batches characterised by a water volume $V_{\\ell}$ of 2 $m^3$, in which $100\\,kg$ of adsorbent are dispersed to form a slurry.  The pollutant adsorption on the surface of the stationary phase particles is well described by a linear isotherm $q=Hc^*$ with $H=1\\times{10^{-1}}$.  The liquid-side mass transfer coefficient is $k_{\\ell}=1\\times{10^{-5}}\\,[m s^{-1}]$.\n",
    "\n",
    "- Is it possible to carry out the requested purification with the operation parameters described in the problem statment? \n",
    "- If this is the case how much time does it take to lower the pollutant concetration to the target specification? \n"
   ]
  },
  {
   "cell_type": "markdown",
   "metadata": {},
   "source": [
    "## 8.2 Material Balance in a Batch Slurry adsorption process"
   ]
  },
  {
   "cell_type": "markdown",
   "metadata": {},
   "source": [
    "Let us begin by writing the material balance for a batch membrane separator.\n",
    "\n",
    "Since we have a batch system, no inlet or outlet streams are present and we can write: \n",
    "\n",
    "$$\n",
    "V_\\ell{c_0}=V_\\ell{c}+S_pq\n",
    "\\label{eq:matbalance}{\\tag{1}}\n",
    "$$(eq1)\n",
    "\n",
    "Where $V_{\\ell}$ is the volume of the liquid phase (it can be considered constant), $c_0$ is the initial concentration of coloring agent in solution, $c$ is the instantaneous concentration of coloring agent in solution,  $q$ the instantaneous concentration of coloring agent adsorbed on the stationary phase and $S_p$ the mass of the adsorbent particles.\n",
    "\n",
    "Mass transfer in these cases is dominated by bulk transport on the liquid side, thus the flux $J$ of the pollutant leaving the fluid phase to be incorporated in the stationary phase can be written as: \n",
    "\n",
    "$$\n",
    "J=-k_\\ell(c-c^*)\n",
    "$$(eq2)\n",
    "\n",
    "where $k_\\ell$ is the mass transfer coefficient on the liquid side, and $c^*$ is the equilibrium concentration, reached at the solid/liquid interface. $J$ has the units of number of moles per unit time per unit surface. \n",
    "\n",
    "The differential material balance on the solute concentration can thus be written as: \n",
    "\n",
    "$$\n",
    "\\frac{dc}{dt}=-k_\\ell\\frac{S_p}{V_\\ell}(c-c^*)=-k_\\ell{a}(c-c^*)\n",
    "$$(eq3)\n",
    "\n",
    "Where $a$ represents the particles mass per unit of fluid volume. \n",
    "\n",
    "\n",
    "The equilibrium of the adsorption process is well captured by a linear isotherm: \n",
    "\n",
    "$$\n",
    "c^*=\\frac{q}{H}\n",
    "\\label{eq:equilibrium}\n",
    "$$(eq4)\n",
    "\n",
    "Using Eq. {eq}`eq1` and {eq}`eq4`, Eq. {eq}`eq2` can be rewritten as:\n",
    "\n",
    "$$\n",
    "\\frac{dc}{dt}=-k_\\ell{a}\\left(c-\\frac{q}{H}\\right) = \n",
    "$$\n",
    "\n",
    "$$\n",
    "=-k_\\ell{a}\\left(c-\\frac{(c_0-c)V_\\ell}{HS_p}\\right) = \n",
    "$$\n",
    "\n",
    "$$\n",
    "=-k_\\ell{a}c\\left(1+\\frac{V_\\ell}{HS_p}\\right)+k_\\ell{a}c_0\\frac{V_\\ell}{HS_p}= \n",
    "$$(eq5)\n",
    "\n",
    "Defining: $\\beta=\\left(1+\\frac{V_\\ell}{HS_p}\\right)$, and $\\alpha=\\frac{V_\\ell}{HS_p}$, one gets: \n",
    "\n",
    "$$\n",
    "\\frac{dc}{dt}+k_\\ell{a}\\beta\\,c=k_\\ell{a}c_0\\alpha\n",
    "$$(eq6)\n",
    "\n",
    "which is a first order, non homogeneous ODE in the form $y^\\prime+C_1y=C_2$ with constant a and b coefficients. \n",
    "\n",
    "To solve our problem Eq. \\ref{eq:ODE} can be solved either numerically or analytically. \n",
    "In this case the analytical solution can be obtained from the general solution for ODEs of this type: \n",
    "\n",
    "$$\n",
    "y(t)=e^{-A(t)}\\left[k_1+\\int{be^{A(t)}dt}\\right]\n",
    "$$(eq7)\n",
    "\n",
    "where $A(t)=\\int{C_1dt}$\n",
    "\n",
    "In our case: \n",
    "- $C_1=k_\\ell{a\\beta}$, thus $A(t)=k_\\ell{a\\beta}\\,t$\n",
    "- $C_2=k_\\ell{a\\alpha}c_0$, \n",
    "\n",
    "thus: \n",
    "\n",
    "$$\n",
    "\\int{be^{A(t)}dt}=\\int{k_\\ell{a\\alpha}e^{k_\\ell{a\\beta}\\,t}dt}=\\frac{k_\\ell{a\\alpha}c_0}{k_\\ell{a\\beta}}e^{k_\\ell{a\\beta}\\,t}=\\frac{\\alpha{c_0}}{\\beta}e^{k_\\ell{a\\beta}\\,t}\n",
    "$$(eq8)\n",
    "\n",
    "putting everything together: \n",
    "\n",
    "$$\n",
    "c(t)=k_1e^{-k_\\ell{a\\beta}\\,t}+\\frac{\\alpha{c_0}}{\\beta}\n",
    "$$(eq9)\n",
    "\n",
    "The constant $C_1$ can be computed from the initial conditions: at $t=0$ $c(t)=c_0$, therefore: \n",
    "\n",
    "$$\n",
    "k_1=c_0\\left(1-\\frac{\\alpha}{\\beta}\\right)=\\frac{c_0}{\\beta}\n",
    "$$(eq10)\n",
    "\n",
    "The final solution for the time-dependent concentration profile $c(t)$ is: \n",
    "\n",
    "$$\n",
    "c(t)=\\frac{c_0}{\\beta}\\left(e^{-k_\\ell{a\\beta}\\,t}+\\alpha\\right)\n",
    "$$(eq11)\n",
    "\n",
    "The performance of a batch slurry process in removing the concentration in the fluid phase is limited, i.e. the concentration has an asymptotic behavior in time $\\lim_{t\\to\\infty} c(t) = \\frac{\\alpha{c_0}}{\\beta}$.\n"
   ]
  },
  {
   "cell_type": "code",
   "execution_count": 1,
   "metadata": {},
   "outputs": [
    {
     "data": {
      "image/png": "[encoded data removed]",
      "text/plain": [
       "<Figure size 432x288 with 1 Axes>"
      ]
     },
     "metadata": {
      "filenames": {
       "image/png": "/Users/matteo/Projects/PSSP_notebook/_build/jupyter_execute/Slurry_Adsorption_6_0.png"
      },
      "needs_background": "light"
     },
     "output_type": "display_data"
    }
   ],
   "source": [
    "import numpy as np\n",
    "import matplotlib.pyplot as plt \n",
    "from matplotlib.pyplot import cm\n",
    "\n",
    "#Plotting\n",
    "figure=plt.figure()\n",
    "axes = figure.add_axes([0.1,0.1,1.2,1.2])\n",
    "plt.xticks(fontsize=14)\n",
    "plt.yticks(fontsize=14)\n",
    "\n",
    "\n",
    "# Data\n",
    "Vl= 2\n",
    "H=0.1\n",
    "Sp= 100\n",
    "C0=0.1\n",
    "a = Sp / Vl\n",
    "kl = 1E-5 * 3600\n",
    "alpha= Vl/H/Sp\n",
    "beta = 1+Vl/H/Sp\n",
    "N = 500 #number of points\n",
    "time = np.linspace(0,5, N)\n",
    "C_inf= np.ones(np.size(time)) * C0*alpha/beta\n",
    "\n",
    "color=iter(cm.coolwarm(np.linspace(0,1,2)))\n",
    "c=next(color)\n",
    "C = C0/beta * (np.exp(-kl*a*beta*time)+alpha) \n",
    "axes.plot(time,C, marker=' ',c=c)\n",
    "c=next(color)\n",
    "axes.plot(time,C_inf,marker=' ',linestyle='dotted',c=c)\n",
    "    \n",
    "plt.title('', fontsize=18);\n",
    "axes.set_xlabel('$time\\,\\,[hours]$', fontsize=18);\n",
    "axes.set_ylabel('$C\\,\\,[mol / l]$',fontsize=18);\n",
    "axes.legend(['$C(t)$','$C_{inf}$'], fontsize=18);"
   ]
  },
  {
   "cell_type": "markdown",
   "metadata": {},
   "source": [
    "## 8.3 Continuous Slurry Adsorption"
   ]
  },
  {
   "cell_type": "markdown",
   "metadata": {},
   "source": [
    "The slurry adsorption process can be carried out in a continuous mode. In this mode both the adsorbent and the fluid phase are continuously fed into and removed from a stirred tank. \n",
    "\n",
    "In this context the  differential material balance on the solute concentration used to solve the unsteady state batch process should be rewritten as: \n",
    "\n",
    "$$\n",
    "\\frac{dc}{dt}=-k_\\ell{a}(c-c^*) \\rightarrow \\frac{{c_{in}-c_{out}}}{\\tau}=k_\\ell{a}(c_{out}-c^*)\n",
    "$$(eq12)\n",
    "\n",
    "where $\\tau$ is the residence time, $c_{out}$ the concentration in the liquid phase in the unit, $c_{in}$ the concentration in the feed, and $a$ the amount of surface of the stationary phase particles per unit volume of the liquid phase. \n",
    "\n",
    "Note that in a continuous process it is convenient to define $a$ as follows: \n",
    "\n",
    "$$\n",
    "a={S}/Q\n",
    "$$(eq13)\n",
    "\n",
    "where $Q$ is the volumetric flowrate of the liquid phase, ans $S$ is the mass flowrate of the solid phase. \n",
    "\n",
    "This expression needs to be solved together with the adsorption isotherm $q=kc^*$, where $q$ is the amount adsorbed per kg of stationary phase, c is the molar concentration in solution and $k$ is the partition coefficient, and with the global material balance at steady state, which reads: \n",
    "\n",
    "$$\n",
    "c_{in}Q=qS+c_{out}Q\n",
    "$$(eq14)"
   ]
  }
 ],
 "metadata": {
  "kernelspec": {
   "display_name": "Python 3",
   "language": "python",
   "name": "python3"
  },
  "language_info": {
   "codemirror_mode": {
    "name": "ipython",
    "version": 3
   },
   "file_extension": ".py",
   "mimetype": "text/x-python",
   "name": "python",
   "nbconvert_exporter": "python",
   "pygments_lexer": "ipython3",
   "version": "3.8.5"
  }
 },
 "nbformat": 4,
 "nbformat_minor": 4
}